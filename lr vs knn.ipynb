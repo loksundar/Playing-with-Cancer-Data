{
 "cells": [
  {
   "cell_type": "code",
   "execution_count": 4,
   "metadata": {},
   "outputs": [
    {
     "name": "stdout",
     "output_type": "stream",
     "text": [
      "Optimization terminated successfully.\n",
      "         Current function value: 0.023921\n",
      "         Iterations 19\n",
      "                K=10      K=15      K=20      K=25        LR\n",
      "Metric                                                      \n",
      "Accuracy    0.971880  0.971880  0.959578  0.959578  0.994728\n",
      "Precission  0.972751  0.972470  0.961533  0.961533  0.994729\n",
      "Recall      0.971880  0.971880  0.959578  0.959578  0.994728\n",
      "F1_Score    0.971671  0.971703  0.959102  0.959102  0.994725\n"
     ]
    }
   ],
   "source": [
    "import pandas as pd\n",
    "from sklearn.preprocessing import scale\n",
    "from sklearn.decomposition import PCA\n",
    "from sklearn.neighbors import KNeighborsClassifier\n",
    "from sklearn import metrics\n",
    "import statsmodels.api as sm\n",
    "import numpy as np\n",
    "df=pd.read_csv(\"breastcancer.csv\")\n",
    "X = df.iloc[:,2:]\n",
    "y=df.iloc[:,1]\n",
    "xs=pd.DataFrame(scale(X))\n",
    "pca = PCA(n_components=30)\n",
    "proj = pca.fit_transform(xs)\n",
    "newx = pd.DataFrame(proj)\n",
    "nk = [10,15,20,25]\n",
    "res_df=list()\n",
    "for i in nk:\n",
    "    model = KNeighborsClassifier(n_neighbors=i)\n",
    "    model.fit(proj,y)\n",
    "    pred = model.predict(newx)\n",
    "    tmp = list()\n",
    "    tmp.append(metrics.accuracy_score(y,pred))\n",
    "    tmp.append(metrics.precision_score(y,pred,average=\"weighted\"))\n",
    "    tmp.append(metrics.recall_score(y,pred,average=\"weighted\"))\n",
    "    tmp.append(metrics.f1_score(y,pred,average=\"weighted\"))\n",
    "    res_df.append(tmp)\n",
    "res = pd.DataFrame(res_df).T\n",
    "res.columns= ['K=10','K=15','K=20','K=25']\n",
    "res['Metric']=['Accuracy','Precission','Recall','F1_Score']\n",
    "res.set_index(['Metric'],inplace=True)\n",
    "est = sm.Logit(y, proj).fit()\n",
    "pred = est.predict(newx)\n",
    "pred = np.round(pred)\n",
    "tmp = list()\n",
    "tmp.append(metrics.accuracy_score(y,pred))\n",
    "tmp.append(metrics.precision_score(y,pred,average=\"weighted\"))\n",
    "tmp.append(metrics.recall_score(y,pred,average=\"weighted\"))\n",
    "tmp.append(metrics.f1_score(y,pred,average=\"weighted\"))\n",
    "res['LR']=tmp\n",
    "print(res)"
   ]
  },
  {
   "cell_type": "code",
   "execution_count": 19,
   "metadata": {},
   "outputs": [],
   "source": [
    "import ipywidgets as widgets\n",
    "from ipywidgets import interact, interact_manual\n",
    "from ipywidgets import interactive, IntSlider, FloatSlider, interact\n",
    "import seaborn as sns\n",
    "import matplotlib.pyplot as plt"
   ]
  },
  {
   "cell_type": "code",
   "execution_count": 27,
   "metadata": {},
   "outputs": [
    {
     "data": {
      "application/vnd.jupyter.widget-view+json": {
       "model_id": "969bb3d25f9e46e4b6640b35b5b5caa3",
       "version_major": 2,
       "version_minor": 0
      },
      "text/plain": [
       "interactive(children=(IntSlider(value=5, continuous_update=False, description='nd', max=30, min=2), Output()),…"
      ]
     },
     "metadata": {},
     "output_type": "display_data"
    }
   ],
   "source": [
    "@interact\n",
    "def inte(nd=IntSlider(min=2,max=30,value=5, continuous_update=False)):\n",
    "    pca = PCA(n_components=nd)\n",
    "    proj = pca.fit_transform(xs)\n",
    "    newx = pd.DataFrame(proj)\n",
    "    nk = [10,15,20,25]\n",
    "    res_df=list()\n",
    "    for i in nk:\n",
    "        model = KNeighborsClassifier(n_neighbors=i)\n",
    "        model.fit(proj,y)\n",
    "        pred = model.predict(newx)\n",
    "        tmp = list()\n",
    "        tmp.append(metrics.accuracy_score(y,pred))\n",
    "        tmp.append(metrics.precision_score(y,pred,average=\"weighted\"))\n",
    "        tmp.append(metrics.recall_score(y,pred,average=\"weighted\"))\n",
    "        tmp.append(metrics.f1_score(y,pred,average=\"weighted\"))\n",
    "        res_df.append(tmp)\n",
    "    res = pd.DataFrame(res_df).T\n",
    "    res.columns= ['K=10','K=15','K=20','K=25']\n",
    "    res['Metric']=['Accuracy','Precission','Recall','F1_Score']\n",
    "    res.set_index(['Metric'],inplace=True)\n",
    "    est = sm.Logit(y, proj).fit()\n",
    "    pred = est.predict(newx)\n",
    "    pred = np.round(pred)\n",
    "    tmp = list()\n",
    "    tmp.append(metrics.accuracy_score(y,pred))\n",
    "    tmp.append(metrics.precision_score(y,pred,average=\"weighted\"))\n",
    "    tmp.append(metrics.recall_score(y,pred,average=\"weighted\"))\n",
    "    tmp.append(metrics.f1_score(y,pred,average=\"weighted\"))\n",
    "    res.insert(0, 'Log Reg', tmp)\n",
    "    plt.figure(figsize=(7,5))\n",
    "    sns.heatmap(res)\n",
    "    plt.show()\n",
    "    print(res)\n",
    "    "
   ]
  },
  {
   "cell_type": "code",
   "execution_count": null,
   "metadata": {},
   "outputs": [],
   "source": []
  }
 ],
 "metadata": {
  "kernelspec": {
   "display_name": "Python 3",
   "language": "python",
   "name": "python3"
  },
  "language_info": {
   "codemirror_mode": {
    "name": "ipython",
    "version": 3
   },
   "file_extension": ".py",
   "mimetype": "text/x-python",
   "name": "python",
   "nbconvert_exporter": "python",
   "pygments_lexer": "ipython3",
   "version": "3.8.3"
  }
 },
 "nbformat": 4,
 "nbformat_minor": 4
}
