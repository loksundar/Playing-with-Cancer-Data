{
 "cells": [
  {
   "cell_type": "code",
   "execution_count": 11,
   "metadata": {},
   "outputs": [],
   "source": [
    "import pandas as pd\n",
    "df=pd.read_csv(\"breastcancer.csv\")\n",
    "X = df.iloc[:,2:]\n",
    "y=df.iloc[:,1]\n",
    "from sklearn.preprocessing import scale\n",
    "xs=pd.DataFrame(scale(X))\n",
    "from sklearn.decomposition import PCA\n",
    "from sklearn.neighbors import KNeighborsClassifier\n",
    "from sklearn import metrics\n",
    "import numpy as np\n",
    "import seaborn as sns\n",
    "import numpy as np\n",
    "import matplotlib.pyplot as plt\n"
   ]
  },
  {
   "cell_type": "code",
   "execution_count": 3,
   "metadata": {},
   "outputs": [],
   "source": [
    "k = int(round(np.sqrt(len(xs))))"
   ]
  },
  {
   "cell_type": "code",
   "execution_count": 4,
   "metadata": {},
   "outputs": [
    {
     "data": {
      "text/plain": [
       "24"
      ]
     },
     "execution_count": 4,
     "metadata": {},
     "output_type": "execute_result"
    }
   ],
   "source": [
    "k"
   ]
  },
  {
   "cell_type": "code",
   "execution_count": 5,
   "metadata": {},
   "outputs": [
    {
     "name": "stdout",
     "output_type": "stream",
     "text": [
      "[0.961335676625659, 0.9626967187868026, 0.961335676625659, 0.9609539667385142]\n",
      "[0.9578207381370826, 0.9599636254386656, 0.9578207381370826, 0.9572969758071415]\n",
      "[0.9595782073813708, 0.9615329957438369, 0.9595782073813708, 0.9591024883048241]\n",
      "[0.9595782073813708, 0.9615329957438369, 0.9595782073813708, 0.9591024883048241]\n",
      "[0.9595782073813708, 0.9615329957438369, 0.9595782073813708, 0.9591024883048241]\n",
      "[0.961335676625659, 0.9631105302087363, 0.961335676625659, 0.9609054008172064]\n"
     ]
    }
   ],
   "source": [
    "comp = [5,6,7,8,9,10]\n",
    "res_df  = list()\n",
    "for i in comp:\n",
    "    pca = PCA(n_components=i)\n",
    "    proj = pca.fit_transform(xs)\n",
    "    newx = pd.DataFrame(proj)\n",
    "    model = KNeighborsClassifier(n_neighbors=k)\n",
    "    model.fit(proj,y)\n",
    "    pred = model.predict(newx)\n",
    "    tmp = list()\n",
    "    tmp.append(metrics.accuracy_score(y,pred))\n",
    "    tmp.append(metrics.precision_score(y,pred,average=\"weighted\"))\n",
    "    tmp.append(metrics.recall_score(y,pred,average=\"weighted\"))\n",
    "    tmp.append(metrics.f1_score(y,pred,average=\"weighted\"))\n",
    "    print(tmp)\n",
    "    res_df.append(tmp)"
   ]
  },
  {
   "cell_type": "code",
   "execution_count": 6,
   "metadata": {},
   "outputs": [
    {
     "data": {
      "text/html": [
       "<div>\n",
       "<style scoped>\n",
       "    .dataframe tbody tr th:only-of-type {\n",
       "        vertical-align: middle;\n",
       "    }\n",
       "\n",
       "    .dataframe tbody tr th {\n",
       "        vertical-align: top;\n",
       "    }\n",
       "\n",
       "    .dataframe thead th {\n",
       "        text-align: right;\n",
       "    }\n",
       "</style>\n",
       "<table border=\"1\" class=\"dataframe\">\n",
       "  <thead>\n",
       "    <tr style=\"text-align: right;\">\n",
       "      <th></th>\n",
       "      <th>0</th>\n",
       "      <th>1</th>\n",
       "      <th>2</th>\n",
       "      <th>3</th>\n",
       "      <th>4</th>\n",
       "      <th>5</th>\n",
       "    </tr>\n",
       "  </thead>\n",
       "  <tbody>\n",
       "    <tr>\n",
       "      <th>0</th>\n",
       "      <td>0.961336</td>\n",
       "      <td>0.957821</td>\n",
       "      <td>0.959578</td>\n",
       "      <td>0.959578</td>\n",
       "      <td>0.959578</td>\n",
       "      <td>0.961336</td>\n",
       "    </tr>\n",
       "    <tr>\n",
       "      <th>1</th>\n",
       "      <td>0.962697</td>\n",
       "      <td>0.959964</td>\n",
       "      <td>0.961533</td>\n",
       "      <td>0.961533</td>\n",
       "      <td>0.961533</td>\n",
       "      <td>0.963111</td>\n",
       "    </tr>\n",
       "    <tr>\n",
       "      <th>2</th>\n",
       "      <td>0.961336</td>\n",
       "      <td>0.957821</td>\n",
       "      <td>0.959578</td>\n",
       "      <td>0.959578</td>\n",
       "      <td>0.959578</td>\n",
       "      <td>0.961336</td>\n",
       "    </tr>\n",
       "    <tr>\n",
       "      <th>3</th>\n",
       "      <td>0.960954</td>\n",
       "      <td>0.957297</td>\n",
       "      <td>0.959102</td>\n",
       "      <td>0.959102</td>\n",
       "      <td>0.959102</td>\n",
       "      <td>0.960905</td>\n",
       "    </tr>\n",
       "  </tbody>\n",
       "</table>\n",
       "</div>"
      ],
      "text/plain": [
       "          0         1         2         3         4         5\n",
       "0  0.961336  0.957821  0.959578  0.959578  0.959578  0.961336\n",
       "1  0.962697  0.959964  0.961533  0.961533  0.961533  0.963111\n",
       "2  0.961336  0.957821  0.959578  0.959578  0.959578  0.961336\n",
       "3  0.960954  0.957297  0.959102  0.959102  0.959102  0.960905"
      ]
     },
     "execution_count": 6,
     "metadata": {},
     "output_type": "execute_result"
    }
   ],
   "source": [
    "res = pd.DataFrame(res_df).T\n",
    "res.head()"
   ]
  },
  {
   "cell_type": "code",
   "execution_count": 7,
   "metadata": {},
   "outputs": [
    {
     "data": {
      "text/html": [
       "<div>\n",
       "<style scoped>\n",
       "    .dataframe tbody tr th:only-of-type {\n",
       "        vertical-align: middle;\n",
       "    }\n",
       "\n",
       "    .dataframe tbody tr th {\n",
       "        vertical-align: top;\n",
       "    }\n",
       "\n",
       "    .dataframe thead th {\n",
       "        text-align: right;\n",
       "    }\n",
       "</style>\n",
       "<table border=\"1\" class=\"dataframe\">\n",
       "  <thead>\n",
       "    <tr style=\"text-align: right;\">\n",
       "      <th></th>\n",
       "      <th>0</th>\n",
       "      <th>1</th>\n",
       "      <th>2</th>\n",
       "      <th>3</th>\n",
       "      <th>4</th>\n",
       "      <th>5</th>\n",
       "    </tr>\n",
       "  </thead>\n",
       "  <tbody>\n",
       "    <tr>\n",
       "      <th>0</th>\n",
       "      <td>0.961336</td>\n",
       "      <td>0.957821</td>\n",
       "      <td>0.959578</td>\n",
       "      <td>0.959578</td>\n",
       "      <td>0.959578</td>\n",
       "      <td>0.961336</td>\n",
       "    </tr>\n",
       "    <tr>\n",
       "      <th>1</th>\n",
       "      <td>0.962697</td>\n",
       "      <td>0.959964</td>\n",
       "      <td>0.961533</td>\n",
       "      <td>0.961533</td>\n",
       "      <td>0.961533</td>\n",
       "      <td>0.963111</td>\n",
       "    </tr>\n",
       "    <tr>\n",
       "      <th>2</th>\n",
       "      <td>0.961336</td>\n",
       "      <td>0.957821</td>\n",
       "      <td>0.959578</td>\n",
       "      <td>0.959578</td>\n",
       "      <td>0.959578</td>\n",
       "      <td>0.961336</td>\n",
       "    </tr>\n",
       "    <tr>\n",
       "      <th>3</th>\n",
       "      <td>0.960954</td>\n",
       "      <td>0.957297</td>\n",
       "      <td>0.959102</td>\n",
       "      <td>0.959102</td>\n",
       "      <td>0.959102</td>\n",
       "      <td>0.960905</td>\n",
       "    </tr>\n",
       "  </tbody>\n",
       "</table>\n",
       "</div>"
      ],
      "text/plain": [
       "          0         1         2         3         4         5\n",
       "0  0.961336  0.957821  0.959578  0.959578  0.959578  0.961336\n",
       "1  0.962697  0.959964  0.961533  0.961533  0.961533  0.963111\n",
       "2  0.961336  0.957821  0.959578  0.959578  0.959578  0.961336\n",
       "3  0.960954  0.957297  0.959102  0.959102  0.959102  0.960905"
      ]
     },
     "execution_count": 7,
     "metadata": {},
     "output_type": "execute_result"
    }
   ],
   "source": [
    "hmap=res\n",
    "hmap.head()"
   ]
  },
  {
   "cell_type": "code",
   "execution_count": 8,
   "metadata": {},
   "outputs": [
    {
     "data": {
      "text/html": [
       "<div>\n",
       "<style scoped>\n",
       "    .dataframe tbody tr th:only-of-type {\n",
       "        vertical-align: middle;\n",
       "    }\n",
       "\n",
       "    .dataframe tbody tr th {\n",
       "        vertical-align: top;\n",
       "    }\n",
       "\n",
       "    .dataframe thead th {\n",
       "        text-align: right;\n",
       "    }\n",
       "</style>\n",
       "<table border=\"1\" class=\"dataframe\">\n",
       "  <thead>\n",
       "    <tr style=\"text-align: right;\">\n",
       "      <th></th>\n",
       "      <th>5</th>\n",
       "      <th>6</th>\n",
       "      <th>7</th>\n",
       "      <th>8</th>\n",
       "      <th>9</th>\n",
       "      <th>10</th>\n",
       "    </tr>\n",
       "    <tr>\n",
       "      <th>Metric</th>\n",
       "      <th></th>\n",
       "      <th></th>\n",
       "      <th></th>\n",
       "      <th></th>\n",
       "      <th></th>\n",
       "      <th></th>\n",
       "    </tr>\n",
       "  </thead>\n",
       "  <tbody>\n",
       "    <tr>\n",
       "      <th>Accuracy</th>\n",
       "      <td>0.961336</td>\n",
       "      <td>0.957821</td>\n",
       "      <td>0.959578</td>\n",
       "      <td>0.959578</td>\n",
       "      <td>0.959578</td>\n",
       "      <td>0.961336</td>\n",
       "    </tr>\n",
       "    <tr>\n",
       "      <th>Precission</th>\n",
       "      <td>0.962697</td>\n",
       "      <td>0.959964</td>\n",
       "      <td>0.961533</td>\n",
       "      <td>0.961533</td>\n",
       "      <td>0.961533</td>\n",
       "      <td>0.963111</td>\n",
       "    </tr>\n",
       "    <tr>\n",
       "      <th>Recall</th>\n",
       "      <td>0.961336</td>\n",
       "      <td>0.957821</td>\n",
       "      <td>0.959578</td>\n",
       "      <td>0.959578</td>\n",
       "      <td>0.959578</td>\n",
       "      <td>0.961336</td>\n",
       "    </tr>\n",
       "    <tr>\n",
       "      <th>F1_Score</th>\n",
       "      <td>0.960954</td>\n",
       "      <td>0.957297</td>\n",
       "      <td>0.959102</td>\n",
       "      <td>0.959102</td>\n",
       "      <td>0.959102</td>\n",
       "      <td>0.960905</td>\n",
       "    </tr>\n",
       "  </tbody>\n",
       "</table>\n",
       "</div>"
      ],
      "text/plain": [
       "                  5         6         7         8         9         10\n",
       "Metric                                                                \n",
       "Accuracy    0.961336  0.957821  0.959578  0.959578  0.959578  0.961336\n",
       "Precission  0.962697  0.959964  0.961533  0.961533  0.961533  0.963111\n",
       "Recall      0.961336  0.957821  0.959578  0.959578  0.959578  0.961336\n",
       "F1_Score    0.960954  0.957297  0.959102  0.959102  0.959102  0.960905"
      ]
     },
     "execution_count": 8,
     "metadata": {},
     "output_type": "execute_result"
    }
   ],
   "source": [
    "res.columns= comp\n",
    "res['Metric']=['Accuracy','Precission','Recall','F1_Score']\n",
    "res.set_index(['Metric'],inplace=True)\n",
    "res.head()"
   ]
  },
  {
   "cell_type": "code",
   "execution_count": 9,
   "metadata": {},
   "outputs": [
    {
     "data": {
      "image/png": "[encoded data removed]",
      "text/plain": [
       "<Figure size 1080x720 with 2 Axes>"
      ]
     },
     "metadata": {
      "needs_background": "light"
     },
     "output_type": "display_data"
    }
   ],
   "source": [
    "plt.figure(figsize=(15,10))\n",
    "sns.heatmap(hmap)\n",
    "plt.xlabel(\"dimensions\")\n",
    "plt.show()"
   ]
  },
  {
   "cell_type": "code",
   "execution_count": 18,
   "metadata": {},
   "outputs": [
    {
     "data": {
      "application/vnd.jupyter.widget-view+json": {
       "model_id": "528c9848b13d49c688797a5b11deccd3",
       "version_major": 2,
       "version_minor": 0
      },
      "text/plain": [
       "interactive(children=(IntSlider(value=24, continuous_update=False, description='k', max=30, min=2), IntSlider(…"
      ]
     },
     "metadata": {},
     "output_type": "display_data"
    }
   ],
   "source": [
    "@interact \n",
    "def funct(k=IntSlider(min=2,max=30,value=24, continuous_update=False),\n",
    "          starting_adder=IntSlider(min=0,max=25,value=5, continuous_update=False)):\n",
    "    a=starting_adder\n",
    "    comp = [a,a+1,a+2,a+3,a+4,a+5]\n",
    "    res_df  = list()\n",
    "    for i in comp:\n",
    "        pca = PCA(n_components=i)\n",
    "        proj = pca.fit_transform(xs)\n",
    "        newx = pd.DataFrame(proj)\n",
    "        model = KNeighborsClassifier(n_neighbors=k)\n",
    "        model.fit(proj,y)\n",
    "        pred = model.predict(newx)\n",
    "        tmp = list()\n",
    "        tmp.append(metrics.accuracy_score(y,pred))\n",
    "        tmp.append(metrics.precision_score(y,pred,average=\"weighted\"))\n",
    "        tmp.append(metrics.recall_score(y,pred,average=\"weighted\"))\n",
    "        tmp.append(metrics.f1_score(y,pred,average=\"weighted\"))\n",
    "        res_df.append(tmp)\n",
    "    res = pd.DataFrame(res_df).T\n",
    "    hmap=res\n",
    "    res.columns= comp\n",
    "    res['Metric']=['Accuracy','Precission','Recall','F1_Score']\n",
    "    res.set_index(['Metric'],inplace=True)\n",
    "    plt.figure(figsize=(10,7))\n",
    "    sns.heatmap(hmap)\n",
    "    plt.xlabel(\"dimensions\")\n",
    "    plt.show()"
   ]
  },
  {
   "cell_type": "code",
   "execution_count": null,
   "metadata": {},
   "outputs": [],
   "source": []
  },
  {
   "cell_type": "code",
   "execution_count": null,
   "metadata": {},
   "outputs": [],
   "source": []
  },
  {
   "cell_type": "code",
   "execution_count": null,
   "metadata": {},
   "outputs": [],
   "source": []
  }
 ],
 "metadata": {
  "kernelspec": {
   "display_name": "Python 3",
   "language": "python",
   "name": "python3"
  },
  "language_info": {
   "codemirror_mode": {
    "name": "ipython",
    "version": 3
   },
   "file_extension": ".py",
   "mimetype": "text/x-python",
   "name": "python",
   "nbconvert_exporter": "python",
   "pygments_lexer": "ipython3",
   "version": "3.8.3"
  }
 },
 "nbformat": 4,
 "nbformat_minor": 4
}
